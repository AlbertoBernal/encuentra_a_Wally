{
 "cells": [
  {
   "cell_type": "markdown",
   "metadata": {},
   "source": [
    "Codigo de prueba para encontrar a Wally\n",
    "------------------------------------------------------------\n",
    "\n",
    "Ojala lo hubiera tenido de chiquillo.\n",
    "\n",
    "\n",
    "El ejemplo es muy sencillo, se coje el resultado de una escena donde esta wally. Se recorta el jersey por ser mas invariante a los cambios.\n",
    "\n",
    "Se podria haber elegido la cabeza o el gorro solo, pero como la orientacion de la cabeza puede cambiar es mas eficaz usar el torso, que al ser un rectangulo en la misma posicion (siempre que wally este de pie) es mas invariante a la situacion.\n",
    "\n",
    "Elementos necesarios\n",
    "\n",
    "* una coleccion de escenas.\n",
    "* el torso de wally extraido de una escena.\n",
    "\n",
    "\n"
   ]
  },
  {
   "cell_type": "code",
   "execution_count": 5,
   "metadata": {},
   "outputs": [],
   "source": [
    "import numpy as np\n",
    "import cv2 as cv\n",
    "from  matplotlib import pyplot as plt\n",
    "location= r'C:\\Users\\alber\\Downloads\\\\'\n",
    "escena = location +'wally.jpg'\n",
    "escena2= location + \"dondeEstaWally.jpg\"\n",
    "templateCabeza = location + 'wallyCabeza.JPG'\n",
    "templateTorso = location + 'wallyTorso.JPG'\n",
    "\n",
    "method = cv.TM_CCOEFF_NORMED#cv.TM_SQDIFF_NORMED\n",
    "\n",
    "\n",
    "def resize(img, scale):\n",
    "    \"scale in percent\"\n",
    "    w = int(img.shape[1] * scale / 100)\n",
    "    h = int(img.shape[0] * scale / 100)\n",
    "    dim = (w,h)\n",
    "    # resize image\n",
    "    resized = cv.resize(img, dim, interpolation = cv.INTER_AREA)\n",
    "    return resized\n",
    "\n",
    "    \n",
    "    \n"
   ]
  },
  {
   "cell_type": "markdown",
   "metadata": {},
   "source": [
    "La funcion *resize* se va a usar para poder comparar una unica plantilla con muchas escenas, ya que la correlacion es sensible a la orientacion (por eso se elige el torso) y a las dimensiones."
   ]
  },
  {
   "cell_type": "code",
   "execution_count": 7,
   "metadata": {},
   "outputs": [],
   "source": [
    "def encuentraWally(escenaCpy, template, method):\n",
    "    results=[]\n",
    "    for scale in range(50,101,1):\n",
    "        templ = resize(template,scale)\n",
    "        result = cv.matchTemplate(escenaCpy,templ,method)\n",
    "    \n",
    "        cv.normalize(result,result,0,1,cv.NORM_MINMAX, -1)\n",
    "        \n",
    "        _minVal , _maxVal , minLoc, maxLoc = cv.minMaxLoc(result,None)\n",
    "        \n",
    "        if method == cv.TM_SQDIFF_NORMED:\n",
    "            matchLoc = minLoc\n",
    "        else:\n",
    "            matchLoc = maxLoc\n",
    "            \n",
    "        if matchLoc not in results:\n",
    "            results.append([matchLoc,templ.shape])\n",
    "        \n",
    "        \n",
    "    for result,templ in results:\n",
    "        cv.rectangle(escenaCpy,result,\n",
    "                    (result[0] + templ[1],\n",
    "                     result[1] + templ[0]),\n",
    "                (0,0,0), 2,2,0)\n",
    "        \n",
    "    return escenaCpy \n",
    "\n",
    "\n",
    "\n"
   ]
  },
  {
   "cell_type": "markdown",
   "metadata": {},
   "source": [
    "Ahora pada cada *escena* en nuestra *lista de escenas* buscamos a wally"
   ]
  },
  {
   "cell_type": "code",
   "execution_count": null,
   "metadata": {},
   "outputs": [],
   "source": [
    "template = cv.imread(templateTorso, cv.IMREAD_COLOR)\n",
    "escenaImg = cv.imread(escena2,cv.IMREAD_COLOR)\n",
    "escenaCpy = escenaImg.copy()\n",
    "\n",
    "for escenaCpy in escenas:\n",
    "    wally = encuentraWally(escenaCpy,template,method)\n",
    "    cv.imshow(\"resultado\",wally)\n",
    "    \n",
    "cv.waitKey(0)\n"
   ]
  },
  {
   "cell_type": "markdown",
   "metadata": {},
   "source": [
    "Conclusion\n",
    "------------------\n",
    "\n",
    "El algoritmo arroja muchos falsos positivos porque la correlacion es muy sensible a la orientacion y la relacion de dimensiones entre el patron y la imagen. Quedaria pendiente comprobar si se puede utilizar el patron de colores del jersey de Wally (rojo,blanco) para mejorar el algorimo."
   ]
  }
 ],
 "metadata": {
  "kernelspec": {
   "display_name": "Python 3",
   "language": "python",
   "name": "python3"
  },
  "language_info": {
   "codemirror_mode": {
    "name": "ipython",
    "version": 3
   },
   "file_extension": ".py",
   "mimetype": "text/x-python",
   "name": "python",
   "nbconvert_exporter": "python",
   "pygments_lexer": "ipython3",
   "version": "3.8.3"
  }
 },
 "nbformat": 4,
 "nbformat_minor": 4
}
